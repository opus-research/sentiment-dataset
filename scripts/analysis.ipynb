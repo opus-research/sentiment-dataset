{
 "cells": [
  {
   "cell_type": "code",
   "execution_count": 3,
   "metadata": {
    "id": "ctPUBvuG5pUR"
   },
   "outputs": [],
   "source": [
    "import json\n",
    "\n",
    "def get_percentage(num, den):\n",
    "  if den == 0:\n",
    "    return 0\n",
    "  return round((num / den * 100), 2)"
   ]
  },
  {
   "cell_type": "code",
   "execution_count": 4,
   "metadata": {
    "id": "Ug2HdyvI5jpR"
   },
   "outputs": [],
   "source": [
    "with open(\"../data/dataset.json\") as jsonfile:\n",
    "  data = json.load(jsonfile)"
   ]
  },
  {
   "cell_type": "markdown",
   "metadata": {},
   "source": [
    "# Counting the emotions present in the dataset"
   ]
  },
  {
   "cell_type": "code",
   "execution_count": 5,
   "metadata": {
    "colab": {
     "base_uri": "https://localhost:8080/"
    },
    "id": "ZkN0fdtddytM",
    "outputId": "9fc7a8e4-308c-4131-8e2d-6551cc9e7856"
   },
   "outputs": [
    {
     "data": {
      "text/plain": [
       "{'joy': 1770,\n",
       " 'anger': 461,\n",
       " 'fear': 181,\n",
       " 'sadness': 1121,\n",
       " 'negativesurprise': 307,\n",
       " 'positivesurprise': 80,\n",
       " 'love': 153}"
      ]
     },
     "execution_count": 5,
     "metadata": {},
     "output_type": "execute_result"
    }
   ],
   "source": [
    "emotions = {}\n",
    "\n",
    "for message in data:\n",
    "  for answer in message['individual_answers']:\n",
    "    for emotion in answer['part2']['emotions']:\n",
    "      if not emotion in emotions:\n",
    "        emotions[emotion] = 0\n",
    "      emotions[emotion] += 1\n",
    "\n",
    "emotions"
   ]
  },
  {
   "cell_type": "markdown",
   "metadata": {},
   "source": [
    "# How to count (and find) the polarity of messages in the dataset"
   ]
  },
  {
   "cell_type": "code",
   "execution_count": 6,
   "metadata": {},
   "outputs": [],
   "source": [
    "num_positive = len(list(filter(lambda x: x['part2_aggregate']['polarity'] == \"positive\", data)))\n",
    "num_neutral = len(list(filter(lambda x: x['part2_aggregate']['polarity'] == \"neutral\", data)))\n",
    "num_negative = len(list(filter(lambda x: x['part2_aggregate']['polarity'] == \"negative\", data)))\n",
    "\n",
    "for message in data:\n",
    "  if \"discussion_polarity\" in message:\n",
    "    if message[\"discussion_polarity\"] == \"positive\":\n",
    "      num_positive += 1\n",
    "    elif message[\"discussion_polarity\"] == \"negative\":\n",
    "      num_negative += 1\n",
    "    else:\n",
    "      num_neutral += 1"
   ]
  },
  {
   "cell_type": "markdown",
   "metadata": {},
   "source": [
    "# Summarize the agreement between the different evaluators for each message."
   ]
  },
  {
   "cell_type": "code",
   "execution_count": 7,
   "metadata": {},
   "outputs": [
    {
     "name": "stdout",
     "output_type": "stream",
     "text": [
      "agg_total_p1: 1070, agg_total_p2: 1042\n",
      "agg_partial_p1: 680, agg_partial_p2: 700\n",
      "agg_none_p1: 41, agg_none_p2: 49\n"
     ]
    }
   ],
   "source": [
    "agg_total_p1 = 0\n",
    "agg_total_p2 = 0\n",
    "agg_partial_p1 = 0\n",
    "agg_partial_p2 = 0\n",
    "agg_none_p1 = 0\n",
    "agg_none_p2 = 0\n",
    "\n",
    "for message in data:\n",
    "  agreement_type = message['part1_aggregate']['agreement_type']\n",
    "  if agreement_type == \"undefined\":\n",
    "    agg_none_p1 += 1\n",
    "  elif agreement_type == \"all\":\n",
    "    agg_total_p1 += 1\n",
    "  else:\n",
    "    agg_partial_p1 += 1\n",
    "  agreement_type = message['part2_aggregate']['agreement_type']\n",
    "  if agreement_type == \"undefined\":\n",
    "    agg_none_p2 += 1\n",
    "  elif agreement_type == \"all\":\n",
    "    agg_total_p2 += 1\n",
    "  else:\n",
    "    agg_partial_p2 += 1\n",
    "\n",
    "print(\"agg_total_p1: {}, agg_total_p2: {}\".format(agg_total_p1, agg_total_p2))\n",
    "print(\"agg_partial_p1: {}, agg_partial_p2: {}\".format(agg_partial_p1, agg_partial_p2))\n",
    "print(\"agg_none_p1: {}, agg_none_p2: {}\".format(agg_none_p1, agg_none_p2))"
   ]
  }
 ],
 "metadata": {
  "colab": {
   "collapsed_sections": [
    "-W03C397eHK6",
    "G4Xw7HfgeYdg"
   ],
   "provenance": []
  },
  "kernelspec": {
   "display_name": "Python 3",
   "name": "python3"
  },
  "language_info": {
   "codemirror_mode": {
    "name": "ipython",
    "version": 3
   },
   "file_extension": ".py",
   "mimetype": "text/x-python",
   "name": "python",
   "nbconvert_exporter": "python",
   "pygments_lexer": "ipython3",
   "version": "3.13.3"
  }
 },
 "nbformat": 4,
 "nbformat_minor": 0
}
