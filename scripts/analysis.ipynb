{
  "cells": [
    {
      "cell_type": "code",
      "execution_count": null,
      "metadata": {
        "id": "ctPUBvuG5pUR"
      },
      "outputs": [],
      "source": [
        "import json\n",
        "\n",
        "def get_percentage(num, den):\n",
        "  if den == 0:\n",
        "    return 0\n",
        "  return round((num / den * 100), 2)"
      ]
    },
    {
      "cell_type": "code",
      "execution_count": null,
      "metadata": {
        "id": "Ug2HdyvI5jpR"
      },
      "outputs": [],
      "source": [
        "with open(\"../data/dataset.json\") as jsonfile:\n",
        "  data = json.load(jsonfile)"
      ]
    },
    {
      "cell_type": "markdown",
      "metadata": {
        "id": "KOuTHfNDnIoz"
      },
      "source": [
        "# How to count (and find) the polarity of messages in the dataset (Figure 2)"
      ]
    },
    {
      "cell_type": "code",
      "execution_count": null,
      "metadata": {
        "colab": {
          "base_uri": "https://localhost:8080/"
        },
        "id": "0K35dnvBnIoz",
        "outputId": "f153741f-c0d7-4e84-d85c-f2bec12967c6"
      },
      "outputs": [
        {
          "output_type": "stream",
          "name": "stdout",
          "text": [
            "num_positive: 521, num_neutral: 838, num_negative: 432\n"
          ]
        }
      ],
      "source": [
        "num_positive = len(list(filter(lambda x: x['part2_aggregate']['polarity'] == \"positive\", data)))\n",
        "num_neutral = len(list(filter(lambda x: x['part2_aggregate']['polarity'] == \"neutral\", data)))\n",
        "num_negative = len(list(filter(lambda x: x['part2_aggregate']['polarity'] == \"negative\", data)))\n",
        "\n",
        "for message in data:\n",
        "  if \"discussion_polarity\" in message:\n",
        "    if message[\"discussion_polarity\"] == \"positive\":\n",
        "      num_positive += 1\n",
        "    elif message[\"discussion_polarity\"] == \"negative\":\n",
        "      num_negative += 1\n",
        "    else:\n",
        "      num_neutral += 1\n",
        "\n",
        "print(\"num_positive: {}, num_neutral: {}, num_negative: {}\".format(num_positive, num_neutral, num_negative))"
      ]
    },
    {
      "cell_type": "markdown",
      "metadata": {
        "id": "dsGyYO9enIoy"
      },
      "source": [
        "# Counting the emotions present in the dataset (Figure 3)\n"
      ]
    },
    {
      "cell_type": "code",
      "execution_count": null,
      "metadata": {
        "colab": {
          "base_uri": "https://localhost:8080/"
        },
        "id": "ZkN0fdtddytM",
        "outputId": "5f1f16ee-71d3-4197-ee20-982fe7c970da"
      },
      "outputs": [
        {
          "output_type": "execute_result",
          "data": {
            "text/plain": [
              "{'joy': 1770,\n",
              " 'anger': 461,\n",
              " 'fear': 181,\n",
              " 'sadness': 1121,\n",
              " 'negativesurprise': 307,\n",
              " 'positivesurprise': 80,\n",
              " 'love': 153}"
            ]
          },
          "metadata": {},
          "execution_count": 3
        }
      ],
      "source": [
        "emotions = {}\n",
        "\n",
        "for message in data:\n",
        "  for answer in message['individual_answers']:\n",
        "    for emotion in answer['part2']['emotions']:\n",
        "      if not emotion in emotions:\n",
        "        emotions[emotion] = 0\n",
        "      emotions[emotion] += 1\n",
        "\n",
        "emotions"
      ]
    },
    {
      "cell_type": "markdown",
      "metadata": {
        "id": "bniMXO_onIoz"
      },
      "source": [
        "# Summarize the agreement between the different evaluators for each message (Figure 4)"
      ]
    },
    {
      "cell_type": "code",
      "execution_count": null,
      "metadata": {
        "colab": {
          "base_uri": "https://localhost:8080/"
        },
        "id": "j7m6SFygnIoz",
        "outputId": "1982dedf-3e24-455c-f705-7ee068ce2cf2"
      },
      "outputs": [
        {
          "output_type": "stream",
          "name": "stdout",
          "text": [
            "agg_total_p1: 1070, agg_total_p2: 1042\n",
            "agg_partial_p1: 680, agg_partial_p2: 700\n",
            "agg_none_p1: 41, agg_none_p2: 49\n"
          ]
        }
      ],
      "source": [
        "agg_total_p1 = 0\n",
        "agg_total_p2 = 0\n",
        "agg_partial_p1 = 0\n",
        "agg_partial_p2 = 0\n",
        "agg_none_p1 = 0\n",
        "agg_none_p2 = 0\n",
        "\n",
        "for message in data:\n",
        "  agreement_type = message['part1_aggregate']['agreement_type']\n",
        "  if agreement_type == \"undefined\":\n",
        "    agg_none_p1 += 1\n",
        "  elif agreement_type == \"all\":\n",
        "    agg_total_p1 += 1\n",
        "  else:\n",
        "    agg_partial_p1 += 1\n",
        "  agreement_type = message['part2_aggregate']['agreement_type']\n",
        "  if agreement_type == \"undefined\":\n",
        "    agg_none_p2 += 1\n",
        "  elif agreement_type == \"all\":\n",
        "    agg_total_p2 += 1\n",
        "  else:\n",
        "    agg_partial_p2 += 1\n",
        "\n",
        "print(\"agg_total_p1: {}, agg_total_p2: {}\".format(agg_total_p1, agg_total_p2))\n",
        "print(\"agg_partial_p1: {}, agg_partial_p2: {}\".format(agg_partial_p1, agg_partial_p2))\n",
        "print(\"agg_none_p1: {}, agg_none_p2: {}\".format(agg_none_p1, agg_none_p2))"
      ]
    },
    {
      "cell_type": "markdown",
      "source": [
        "# Summarize the difference in confidence between the different passes (Figure 5)"
      ],
      "metadata": {
        "id": "ZE4DhLv-oAkW"
      }
    },
    {
      "cell_type": "code",
      "source": [
        "arr_total_p1 = []\n",
        "arr_total_p2 = []\n",
        "arr_partial_p1 = []\n",
        "arr_partial_p2 = []\n",
        "arr_none_p1 = []\n",
        "arr_none_p2 = []\n",
        "\n",
        "for message in data:\n",
        "  agreement_type = message['part1_aggregate']['agreement_type']\n",
        "  if agreement_type == \"undefined\":\n",
        "    arr_none_p1.append(message['part1_aggregate']['avg_confidence'])\n",
        "  elif agreement_type == \"all\":\n",
        "    arr_total_p1.append(message['part1_aggregate']['avg_confidence'])\n",
        "  else:\n",
        "    arr_partial_p1.append(message['part1_aggregate']['avg_confidence'])\n",
        "  agreement_type = message['part2_aggregate']['agreement_type']\n",
        "  if agreement_type == \"undefined\":\n",
        "    arr_none_p2.append(message['part2_aggregate']['avg_confidence'])\n",
        "  elif agreement_type == \"all\":\n",
        "    arr_total_p2.append(message['part2_aggregate']['avg_confidence'])\n",
        "  else:\n",
        "    arr_partial_p2.append(message['part2_aggregate']['avg_confidence'])\n",
        "\n",
        "avg_total_p1 = sum(arr_total_p1) / len(arr_total_p1)\n",
        "avg_total_p2 = sum(arr_total_p2) / len(arr_total_p2)\n",
        "avg_partial_p1 = sum(arr_partial_p1) / len(arr_partial_p1)\n",
        "avg_partial_p2 = sum(arr_partial_p2) / len(arr_partial_p2)\n",
        "avg_none_p1 = sum(arr_none_p1) / len(arr_none_p1)\n",
        "avg_none_p2 = sum(arr_none_p2) / len(arr_none_p2)\n",
        "\n",
        "print(\"avg_total_p1: {:.2f}, avg_total_p2: {:.2f}\".format(avg_total_p1, avg_total_p2))\n",
        "print(\"avg_partial_p1: {:.2f}, avg_partial_p2: {:.2f}\".format(avg_partial_p1, avg_partial_p2))\n",
        "print(\"avg_none_p1: {:.2f}, avg_none_p2: {:.2f}\".format(avg_none_p1, avg_none_p2))\n",
        "\n",
        "print(\"avg_p1: {:.2f}, avg_p2: {:.2f}\".format((avg_total_p1 + avg_partial_p1) / 2, (avg_total_p2 + avg_partial_p2) / 2))"
      ],
      "metadata": {
        "colab": {
          "base_uri": "https://localhost:8080/"
        },
        "id": "_KChAsaGs4lD",
        "outputId": "a25ece11-694c-44aa-8c88-8ca3571cc245"
      },
      "execution_count": 21,
      "outputs": [
        {
          "output_type": "stream",
          "name": "stdout",
          "text": [
            "avg_total_p1: 3.85, avg_total_p2: 4.19\n",
            "avg_partial_p1: 3.37, avg_partial_p2: 3.72\n",
            "avg_none_p1: 3.09, avg_none_p2: 3.56\n",
            "avg_p1: 3.61, avg_p2: 3.95\n"
          ]
        }
      ]
    }
  ],
  "metadata": {
    "colab": {
      "provenance": []
    },
    "kernelspec": {
      "display_name": "Python 3",
      "name": "python3"
    },
    "language_info": {
      "codemirror_mode": {
        "name": "ipython",
        "version": 3
      },
      "file_extension": ".py",
      "mimetype": "text/x-python",
      "name": "python",
      "nbconvert_exporter": "python",
      "pygments_lexer": "ipython3",
      "version": "3.13.3"
    }
  },
  "nbformat": 4,
  "nbformat_minor": 0
}